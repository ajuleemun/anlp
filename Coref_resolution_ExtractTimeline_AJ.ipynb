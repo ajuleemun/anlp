{
 "cells": [
  {
   "cell_type": "markdown",
   "metadata": {},
   "source": [
    "This homework explores coreference resolution for the task of timeline generation: for a given biography on Wikipedia, can you extract all of the events associated with the people mentioned and create one timeline for each person?  For this homework, be sure you are using the `anlp_spacy2` anaconda environment that we set up in `CorefSetup.ipynb` (that has Spacy 2 installed, along with the neuralcoref package).\n",
    "\n",
    "Within this environment, install the wikipedia package:\n",
    "\n",
    "```pip install wikipedia```"
   ]
  },
  {
   "cell_type": "code",
   "execution_count": 1,
   "metadata": {},
   "outputs": [],
   "source": [
    "import wikipedia\n",
    "import spacy\n",
    "import neuralcoref\n",
    "import re\n",
    "import operator"
   ]
  },
  {
   "cell_type": "code",
   "execution_count": 2,
   "metadata": {},
   "outputs": [],
   "source": [
    "nlp = spacy.load('en_core_web_sm')\n",
    "coref = neuralcoref.NeuralCoref(nlp.vocab)\n",
    "nlp.add_pipe(coref, name='neuralcoref')"
   ]
  },
  {
   "cell_type": "code",
   "execution_count": 9,
   "metadata": {},
   "outputs": [],
   "source": [
    "biography = wikipedia.page(\"Harrison Ford\", auto_suggest=False)"
   ]
  },
  {
   "cell_type": "code",
   "execution_count": 40,
   "metadata": {},
   "outputs": [],
   "source": [
    "doc=nlp(biography.content)"
   ]
  },
  {
   "cell_type": "code",
   "execution_count": 12,
   "metadata": {},
   "outputs": [],
   "source": [
    "def print_coref_chains(text):\n",
    "    doc = nlp(text)\n",
    "    for chain in doc._.coref_clusters:\n",
    "        for mention in chain.mentions:\n",
    "            print(mention.text, mention.start, mention.end)\n",
    "        print()"
   ]
  },
  {
   "cell_type": "markdown",
   "metadata": {},
   "source": [
    "Q1. Create a method `extract_timeline` to construct a timeline for the subject of the Wikipedia biography; the timeline should be comprised of events (i.e., verbs) in the biography that the subject participates in and that can be grounded to a year. Your criteria:\n",
    "\n",
    "- Only include events in sentences that contain a year.\n",
    "- Only include events that the target of the Wikipedia biography is involved in.\n",
    "- Only include events where that target person is the subject or direct object of the verb.\n",
    "\n",
    "Your function should return a dict mapping a sentence where those criteria are satisfied to the date mentioned in that sentence.  For example, assume the following to be a biography of the target *Bach*:\n",
    "\n",
    "> Bach is a composer.  He was born in 1685.  He composed 6 suites for solo cello in 1717. Anna Magdalena Wilcke met him in 1721.  Handel was a contemporary and was also born in 1685. Bach's dog was born in 1723.  \n",
    "\n",
    "Your function should return the following dict:\n",
    "\n",
    "{\"He was born in 1685\": 1685, \"He composed 6 suites for solo cello in 1717\": 1717, \"Anna Magdalena Wilcke met him in 1721\": 1721}\n",
    "\n",
    "We exclude the other sentences because:\n",
    "\n",
    "- \"Bach is a composer\" does not mention a date.\n",
    "- Bach is not mentioned in \"Handel was a contemporary and was also born in 1685.\"\n",
    "- Bach is not the subject or direct object of \"Bach's dog was born in 1723\""
   ]
  },
  {
   "cell_type": "code",
   "execution_count": 118,
   "metadata": {},
   "outputs": [],
   "source": [
    "def extract_timeline(doc):\n",
    "    events={}\n",
    "    mentions = []\n",
    "    for idx, chain in enumerate(doc._.coref_clusters):\n",
    "        for mention in chain.mentions:\n",
    "            if str(chain[0]) in [\"Ford\", \"Harrison\", \"Harrison Ford\"]: # checking if coference is to Harrison Ford\n",
    "                mentions.append(mention.sent) # add in corresponding sentence(s)\n",
    "    p = re.compile('\\d{4}') # regex expression to check for four-digit year\n",
    "    for i in range(len(mentions)):\n",
    "        mention_doc = nlp(str(mentions[i]))\n",
    "        for token in mention_doc:\n",
    "            if token.dep_ in ['nsubj', 'dobj']: # checking to see if Harrison Ford is either the subject or object in the sentence\n",
    "                date_list = []\n",
    "                for ent in mention_doc.ents:\n",
    "                    if ent.label_ == \"DATE\" and p.match(ent.text) != None: # using NER to detect dates, and checking with regex\n",
    "                        date_list.append(ent.text)\n",
    "                if len(date_list) != 0:\n",
    "                    events[str(mentions[i])] = date_list[0] # pick first date in cases of multiple dates\n",
    "    return events"
   ]
  },
  {
   "cell_type": "markdown",
   "metadata": {},
   "source": [
    "Let's print that extracted timeline from oldest to newest events."
   ]
  },
  {
   "cell_type": "code",
   "execution_count": 119,
   "metadata": {},
   "outputs": [
    {
     "name": "stdout",
     "output_type": "stream",
     "text": [
      "1960\tFord graduated in 1960 from Maine East High School in Park Ridge, Illinois.\n",
      "1964\tIn 1964, after a season of summer stock with the Belfry Players in Wisconsin, Ford traveled to Los Angeles to apply for a job in radio voice-overs.\n",
      "1964\tHe was first married to Mary Marquardt from 1964 until their divorce in 1979.\n",
      "1968\tHe appeared in the western Journey to Shiloh (1968) and had an uncredited, non-speaking role in Michelangelo Antonioni's 1970 film Zabriskie Point as an arrested student protester.\n",
      "1969\tFrench filmmaker Jacques Demy chose Ford for the lead role of his first American film, Model Shop (1969), but the head of Columbia Pictures thought Ford had \"no future\" in the film business and told Demy to hire a more experienced actor.\n",
      "1973\tCasting director and fledgling producer Fred Roos championed the young Ford and secured him an audition with George Lucas for the role of Bob Falfa, which Ford went on to play in American Graffiti (1973).\n",
      "1974\tThe Conversation (1974) and Apocalypse Now (1979); in the latter film, Ford played an army officer named \"G. Lucas\".\n",
      "\n",
      "\n",
      "\n",
      "1977\tFord has also appeared in several romantic comedies and dramas throughout his career, including Heroes (1977), Working Girl (1988), Sabrina (1995), Six Days, Seven Nights (1998), Random Hearts (1999), Morning Glory (2010), and The Age of Adaline (2015).\n",
      "\n",
      "1977\t===\n",
      "Ford began to receive bigger roles in films throughout the late 1970s, including Heroes (1977), Force 10 from Navarone (1978) and Hanover Street (1979).\n",
      "1981\tFord's status as a leading actor was solidified with Raiders of the Lost Ark (1981), an action-adventure collaboration between George Lucas and Steven Spielberg that gave Ford his second franchise role as the heroic, globe-trotting archaeologist Indiana Jones.\n",
      "1982\tFollowing his leading-man success as Indiana Jones, he played Rick Deckard in Ridley Scott's dystopian science-fiction film Blade Runner (1982).\n",
      "1984\tFord went on to reprise the role throughout the rest of the decade in the prequel Indiana Jones and the Temple of Doom (1984), which co-starred Spielberg's future-wife Kate Capshaw, and the sequel Indiana Jones and the Last Crusade (1989), which co-starred Sean Connery as Indy's father, Henry Jones Sr.\n",
      "1985\tFord has portrayed heroic characters in other films such as the thrillers Witness (1985), for which he received his only Academy Award nomination, The Fugitive (1993), and Air Force One (1997), as well as the historical sports drama 42 (2013).\n",
      "1985\tFord also proved his versatility throughout the 1980s with dramatic parts in films such as Witness (1985), The Mosquito Coast (1986), and Frantic (1988) as well as the romantic male lead opposite Melanie Griffith and Sigourney Weaver in the comedy-drama Working Girl (1988).\n",
      "1987\tThree additional Golden Globe nominations went to Ford in 1987, 1994 and 1996 for his performances in The Mosquito Coast, The Fugitive and Sabrina.\n",
      "1990\tHe also played more straight dramatic roles in Presumed Innocent (1990) and Regarding Henry (1991) as well as another romantic lead in Sabrina (1995), a remake of a classic 1954 film with the same name.\n",
      "\n",
      "1991\tHe is also a dedicated environmental activist, having served as the inaugural Vice Chair of Conservation International since 1991.\n",
      "\n",
      "\n",
      "== Early life ==\n",
      "\n",
      "1992\tIn the 1990s, Ford became the second of five actors to portray Jack Ryan in two films of the  film series based on the literary character created by Tom Clancy: Patriot Games (1992) and Clear and Present Danger (1994), both co-starring Anne Archer and James Earl Jones.\n",
      "1993\tFord also played leading roles in other action-based thrillers throughout the decade such as the critically acclaimed The Fugitive (1993), The Devil's Own (1997), and Air Force One (1997).\n",
      "1999\tIn the late 1990s, Ford started appearing in several critically derided and/or commercially disappointing films that failed to match his earlier successes, including Six Days, Seven Nights (1998), Random Hearts (1999),\n",
      "2000\tFord's second marriage was to screenwriter Melissa Mathison from March 1983 until their separation in 2000 and finalized divorce in 2004.\n",
      "2001\tThey are the parents of Liam (born 2001), the son she adopted before meeting Ford.\n",
      "2004\tIn 2004, Ford declined a chance to star in the thriller Syriana, later commenting that \"I didn't feel strongly enough about the truth of the material\n",
      "2008\tIn 2008, Ford enjoyed success with the release of Indiana Jones and the Kingdom of the Crystal Skull, the first Indiana Jones film in nineteen years and another collaboration with Lucas and Spielberg.\n",
      "2008\tFord later said he would like to star in another sequel, \"...if it didn't take another 20 years to digest.\"Other 2008 work included Crossing Over, directed by Wayne Kramer.\n",
      "2009\tFord filmed the medical drama Extraordinary Measures in 2009 in Portland, Oregon.\n",
      "2009\tFord stepped down as program chairman in 2009 and was replaced by Captain Chesley Sullenberger and First Officer Jeff Skiles.\n",
      "2009\tAs of 2009, Ford appears in Internet advertisements for General Aviation Serves America, a campaign by the advocacy group Aircraft Owners and Pilots Association (AOPA).\n",
      "2009\tHe has also appeared in several independent aviation documentaries, including Wings Over the Rockies (2009), Flying The Feathered Edge:\n",
      "2009\tIn 2009, Ford signed a petition calling for the release of film director Roman Polanski, who had been arrested in Switzerland in relation to his 1977 charge for drugging and raping a 13-year-old girl.\n",
      "\n",
      "\n",
      "\n",
      "2009\tFord has also been honored multiple times for his involvement in general aviation, receiving the Living Legends of Aviation Award and the Experimental Aircraft Association's Freedom of Flight Award in 2009, the Wright Brothers Memorial Trophy in 2010 and the Al Ueltschi Humanitarian Award in 2013.\n",
      "2010\tAlso in 2010, he co-starred in the film Morning Glory, along with Rachel McAdams, Diane Keaton and Patrick Wilson.\n",
      "2011\tAlso in 2011, Ford starred in Japanese commercials advertising the video game\n",
      "2015\tThe Force Awakens (2015), which became massively successful like its predecessors.\n",
      "2015\tIn 2015, Ford received the Albert R. Broccoli Britannia Award for Worldwide Contribution to Entertainment from BAFTA Los Angeles.\n",
      "2016\tIn her 2016 autobiography The Princess Diarist, his co-star Carrie Fisher claimed that she and Ford had a three-month affair in 1976 during the filming of Star Wars.\n",
      "\n",
      "\n",
      "\n",
      "2019\tIn 2019, Ford had his first voice role in an animated film, as a dog named Rooster in The Secret Life of Pets 2.\n",
      "2019\tIn 2019, on behalf of Conservation International, Ford gave an impassioned speech during the United Nations' Climate Action Summit in New York on the destruction of the Amazon rainforest and its effect on climate change for the rest of the world.\n",
      "2020\tFord began flight training in the 1960s at Wild Rose Idlewild Airport in Wild Rose, Wisconsin, flying in a Piper PA-22 Tri-Pacer, but at $15 an hour (equivalent to $128 in 2020), he could not afford to continue the training.\n",
      "2020\tFor the first time ever endorsing a political candidate for office, Ford endorsed Joe Biden's 2020 presidential campaign against Donald Trump.\n",
      "2020\tAlong with Mark Hamill, Ford worked with the anti-Trump Republican group The Lincoln Project to produce and narrate a 2020 election ad attacking Trump's disparaging of Anthony Fauci.\n",
      "2049\tOn February 26, 2015, Alcon Entertainment announced Ford would reprise his role as Rick Deckard in Blade Runner 2049.\n"
     ]
    }
   ],
   "source": [
    "events=extract_timeline(doc)\n",
    "for k,v in sorted(events.items(), key=operator.itemgetter(1)):\n",
    "    print(\"%s\\t%s\" % (v, k))"
   ]
  }
 ],
 "metadata": {
  "kernelspec": {
   "display_name": "Python 3 (ipykernel)",
   "language": "python",
   "name": "python3"
  },
  "language_info": {
   "codemirror_mode": {
    "name": "ipython",
    "version": 3
   },
   "file_extension": ".py",
   "mimetype": "text/x-python",
   "name": "python",
   "nbconvert_exporter": "python",
   "pygments_lexer": "ipython3",
   "version": "3.8.8"
  }
 },
 "nbformat": 4,
 "nbformat_minor": 2
}
