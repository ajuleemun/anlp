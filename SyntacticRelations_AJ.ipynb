{
 "cells": [
  {
   "cell_type": "markdown",
   "metadata": {},
   "source": [
    "This notebook explores dependency parsing by identifying the actions and objects that are characteristically associated with male and female characters."
   ]
  },
  {
   "cell_type": "code",
   "execution_count": 1,
   "metadata": {},
   "outputs": [],
   "source": [
    "import spacy, math\n",
    "from collections import Counter\n",
    "import operator"
   ]
  },
  {
   "cell_type": "code",
   "execution_count": 2,
   "metadata": {},
   "outputs": [],
   "source": [
    "nlp = spacy.load('en_core_web_sm')"
   ]
  },
  {
   "cell_type": "markdown",
   "metadata": {},
   "source": [
    "We'll run seven novels by Jane Austen through spacy (this will take a few minutes)."
   ]
  },
  {
   "cell_type": "code",
   "execution_count": 3,
   "metadata": {},
   "outputs": [
    {
     "name": "stdout",
     "output_type": "stream",
     "text": [
      "../data/fiction/emma.txt\n",
      "../data/fiction/lady_susan.txt\n",
      "../data/fiction/mansfield_park.txt\n",
      "../data/fiction/northanger_abbey.txt\n",
      "../data/fiction/persuasion.txt\n",
      "../data/fiction/pride.txt\n",
      "../data/fiction/sense_and_sensibility.txt\n"
     ]
    }
   ],
   "source": [
    "filenames=[\"../data/fiction/emma.txt\", \"../data/fiction/lady_susan.txt\", \"../data/fiction/mansfield_park.txt\", \"../data/fiction/northanger_abbey.txt\", \"../data/fiction/persuasion.txt\", \"../data/fiction/pride.txt\", \"../data/fiction/sense_and_sensibility.txt\"]\n",
    "all_tokens=[]\n",
    "for filename in filenames:\n",
    "    print(filename)\n",
    "    data=open(filename, encoding=\"utf-8\").read()\n",
    "    tokens=nlp(data)\n",
    "    all_tokens.extend(tokens)"
   ]
  },
  {
   "cell_type": "code",
   "execution_count": 4,
   "metadata": {},
   "outputs": [
    {
     "name": "stdout",
     "output_type": "stream",
     "text": [
      "972838\n"
     ]
    }
   ],
   "source": [
    "print (len(all_tokens))"
   ]
  },
  {
   "cell_type": "code",
   "execution_count": 5,
   "metadata": {},
   "outputs": [],
   "source": [
    "def test(maleCounter, femaleCounter, display=25):\n",
    "    \n",
    "    \"\"\" Function that takes two Counter objects as inputs and prints out a ranked list of terms\n",
    "    more characteristic of the first counter than the second.  Here we'll use log-odds\n",
    "    with an uninformative prior (from Monroe et al 2008, \"Fightin Words\", eqn. 22) as our metric.\n",
    "    \n",
    "    \"\"\"\n",
    "    \n",
    "    vocab=dict(maleCounter) \n",
    "    vocab.update(dict(femaleCounter))\n",
    "    maleSum=sum(maleCounter.values())\n",
    "    femaleSum=sum(femaleCounter.values())\n",
    "\n",
    "    ranks={}\n",
    "    alpha=0.01\n",
    "    alphaV=len(vocab)*alpha\n",
    "        \n",
    "    for word in vocab:\n",
    "        \n",
    "        log_odds_ratio=math.log( (maleCounter[word] + alpha) / (maleSum+alphaV-maleCounter[word]-alpha) ) - math.log( (femaleCounter[word] + alpha) / (femaleSum+alphaV-femaleCounter[word]-alpha) )\n",
    "        variance=1./(maleCounter[word] + alpha) + 1./(femaleCounter[word] + alpha)\n",
    "        \n",
    "        ranks[word]=log_odds_ratio/math.sqrt(variance)\n",
    "\n",
    "    sorted_x = sorted(ranks.items(), key=operator.itemgetter(1), reverse=True)\n",
    "    \n",
    "    print(\"Most male:\")\n",
    "    for k,v in sorted_x[:display]:\n",
    "        print(\"%.3f\\t%s\" % (v,k))\n",
    "    \n",
    "    print(\"\\nMost female:\")\n",
    "    for k,v in reversed(sorted_x[-display:]):\n",
    "        print(\"%.3f\\t%s\" % (v,k))"
   ]
  },
  {
   "cell_type": "markdown",
   "metadata": {},
   "source": [
    "Spacy uses the [ClearNLP dependency labels](https://github.com/clir/clearnlp-guidelines/blob/master/md/specifications/dependency_labels.md), which are very close to the Stanford typed dependencies.  See the [Stanford dependencies manual](http://people.ischool.berkeley.edu/~dbamman/DependencyManual.pdf) for more information about each tag.  Parse information is contained in the spacy token object; see the following for which attributes encode the token text, idx (position in sentence), part of speech, and dependency relation.  The syntactic head for a token is another token given in `token.head` (where all of those same token attributes are accessible)."
   ]
  },
  {
   "cell_type": "code",
   "execution_count": 6,
   "metadata": {},
   "outputs": [
    {
     "name": "stdout",
     "output_type": "stream",
     "text": [
      "He\t0\tPRP\tnsubj\tstarted\t3\tVBD\n",
      "started\t3\tVBD\tROOT\tstarted\t3\tVBD\n",
      "his\t11\tPRP$\tposs\tcar\t15\tNN\n",
      "car\t15\tNN\tdobj\tstarted\t3\tVBD\n",
      ".\t18\t.\tpunct\tstarted\t3\tVBD\n"
     ]
    }
   ],
   "source": [
    "testDoc=nlp(\"He started his car.\")\n",
    "for token in testDoc:\n",
    "    print(\"%s\\t%s\\t%s\\t%s\\t%s\\t%s\\t%s\" % (token.text, token.idx, token.tag_, token.dep_, token.head.text, token.head.idx, token.head.tag_))\n"
   ]
  },
  {
   "cell_type": "markdown",
   "metadata": {},
   "source": [
    "Q1: Find the verbs that men are more characteristically the *subject* of than women.  Feel free to only consider subjects that are \"he\" and \"she\" pronouns.  This function should return two Counter objects (`maleCounter` and `femaleCounter`) which counts the number of times a given verb has \"he\" (`maleCounter`) and \"she\" (`femaleCounter`) as its syntactic subject."
   ]
  },
  {
   "cell_type": "code",
   "execution_count": 34,
   "metadata": {},
   "outputs": [],
   "source": [
    "def count_subjects():\n",
    "    maleCounter=Counter()\n",
    "    femaleCounter=Counter()\n",
    "    verb_list = ['VB', 'VBG', 'VBD', 'VBN', 'VBZ', 'VBP']\n",
    "    for token in all_tokens:\n",
    "        if token.head.tag_ in verb_list and token.dep_ == 'nsubj':\n",
    "            if token.text.lower() == 'he':\n",
    "                maleCounter[token.head.text.lower()] += 1\n",
    "            elif token.text.lower() == 'she':\n",
    "                femaleCounter[token.head.text.lower()] += 1\n",
    "    return maleCounter, femaleCounter"
   ]
  },
  {
   "cell_type": "code",
   "execution_count": 35,
   "metadata": {},
   "outputs": [
    {
     "name": "stdout",
     "output_type": "stream",
     "text": [
      "Most male:\n",
      "6.774\tis\n",
      "5.730\treplied\n",
      "5.098\tcome\n",
      "4.767\ttold\n",
      "4.553\tcame\n",
      "4.371\tsaid\n",
      "4.106\tseemed\n",
      "3.658\tleft\n",
      "3.561\tcomes\n",
      "3.451\tdone\n",
      "\n",
      "Most female:\n",
      "-7.816\tfelt\n",
      "-5.423\tsaw\n",
      "-4.342\tknew\n",
      "-4.253\theard\n",
      "-3.742\tfound\n",
      "-3.266\twas\n",
      "-3.075\thad\n",
      "-3.003\tthought\n",
      "-2.878\tcried\n",
      "-2.738\tbelieved\n"
     ]
    }
   ],
   "source": [
    "male, female=count_subjects()\n",
    "test(male, female, display=10)"
   ]
  },
  {
   "cell_type": "markdown",
   "metadata": {},
   "source": [
    "Q2: Find the verbs that men are more characteristically the *object* of than women.  Feel free to only consider objects that are \"him\" and \"her\" pronouns.  This function should return two Counter objects (`maleCounter` and `femaleCounter`) which counts the number of times a given verb has \"he\" (`maleCounter`) and \"she\" (`femaleCounter`) as its syntactic direct object. "
   ]
  },
  {
   "cell_type": "code",
   "execution_count": 36,
   "metadata": {},
   "outputs": [],
   "source": [
    "def count_objects():\n",
    "    maleCounter=Counter()\n",
    "    femaleCounter=Counter()\n",
    "    verb_list = ['VB', 'VBG', 'VBD', 'VBN', 'VBZ', 'VBP']\n",
    "    for token in all_tokens:\n",
    "        if token.head.tag_ in verb_list and token.dep_ == 'dobj':\n",
    "            if token.text.lower() == 'him':\n",
    "                maleCounter[token.head.text.lower()] += 1\n",
    "            elif token.text.lower() == 'her':\n",
    "                femaleCounter[token.head.text.lower()] += 1\n",
    "    return maleCounter, femaleCounter"
   ]
  },
  {
   "cell_type": "code",
   "execution_count": 37,
   "metadata": {
    "scrolled": true
   },
   "outputs": [
    {
     "name": "stdout",
     "output_type": "stream",
     "text": [
      "Most male:\n",
      "3.890\tseen\n",
      "3.546\tlike\n",
      "3.532\tseeing\n",
      "3.092\tmeet\n",
      "2.740\tsee\n",
      "2.462\tliked\n",
      "2.408\tknow\n",
      "2.313\tcall\n",
      "2.249\tsent\n",
      "1.994\tget\n",
      "\n",
      "Most female:\n",
      "-3.818\tleft\n",
      "-2.591\tstruck\n",
      "-2.402\tconvinced\n",
      "-2.340\tattended\n",
      "-2.070\tmade\n",
      "-1.958\tprevented\n",
      "-1.826\tobliged\n",
      "-1.803\tjoined\n",
      "-1.803\tamuse\n",
      "-1.803\tfetch\n"
     ]
    }
   ],
   "source": [
    "male, female=count_objects()\n",
    "test(male, female, display=10)"
   ]
  },
  {
   "cell_type": "markdown",
   "metadata": {},
   "source": [
    "Q3: Find the objects that are *possessed* more frequently by men than women.  Feel free to only consider possessors that are \"his\" and \"her\" pronouns.   This function should return two Counter objects (`maleCounter` and `femaleCounter`) which counts the number of times a given term is possessed by \"he\" (`maleCounter`) and \"she\" (`femaleCounter`)."
   ]
  },
  {
   "cell_type": "code",
   "execution_count": 38,
   "metadata": {},
   "outputs": [
    {
     "name": "stdout",
     "output_type": "stream",
     "text": [
      "He\t0\tPRP\tnsubj\tleft\t3\tVBD\n",
      "left\t3\tVBD\tROOT\tleft\t3\tVBD\n",
      "his\t8\tPRP$\tposs\tkeys\t12\tNNS\n",
      "keys\t12\tNNS\tdobj\tleft\t3\tVBD\n",
      "at\t17\tIN\tprep\tleft\t3\tVBD\n",
      "home\t20\tNN\tpobj\tat\t17\tIN\n",
      ".\t24\t.\tpunct\tleft\t3\tVBD\n"
     ]
    }
   ],
   "source": [
    "testDoc2=nlp(\"He left his keys at home.\")\n",
    "for token in testDoc2:\n",
    "    print(\"%s\\t%s\\t%s\\t%s\\t%s\\t%s\\t%s\" % (token.text, token.idx, token.tag_, token.dep_, token.head.text, token.head.idx, token.head.tag_))\n"
   ]
  },
  {
   "cell_type": "code",
   "execution_count": 42,
   "metadata": {},
   "outputs": [],
   "source": [
    "def count_possessions():\n",
    "    maleCounter=Counter()\n",
    "    femaleCounter=Counter()\n",
    "    for token in all_tokens:\n",
    "        if token.dep_ == 'poss' and token.head.tag_ in ['NN', 'NNS']:\n",
    "            if token.text.lower() == 'his':\n",
    "                maleCounter[token.head.text.lower()] += 1\n",
    "            elif token.text.lower() == 'her':\n",
    "                femaleCounter[token.head.text.lower()] += 1\n",
    "    return maleCounter, femaleCounter"
   ]
  },
  {
   "cell_type": "code",
   "execution_count": 43,
   "metadata": {},
   "outputs": [
    {
     "name": "stdout",
     "output_type": "stream",
     "text": [
      "Most male:\n",
      "4.689\tsisters\n",
      "4.453\tattentions\n",
      "4.277\thouse\n",
      "4.235\tname\n",
      "4.223\treturn\n",
      "3.815\tson\n",
      "3.713\tattachment\n",
      "3.510\thorse\n",
      "3.427\tcharacter\n",
      "3.427\tbehaviour\n",
      "\n",
      "Most female:\n",
      "-7.209\tmother\n",
      "-6.370\tsister\n",
      "-4.645\teyes\n",
      "-4.423\taunt\n",
      "-3.987\tuncle\n",
      "-3.642\tspirits\n",
      "-3.542\theart\n",
      "-3.369\troom\n",
      "-3.217\tmind\n",
      "-3.096\tfeelings\n"
     ]
    }
   ],
   "source": [
    "male, female=count_possessions()\n",
    "test(male, female, display=10)"
   ]
  },
  {
   "cell_type": "markdown",
   "metadata": {},
   "source": [
    "Q4: Find the actions that are men do *to women* more frequently than women do *to men*.  Feel free to only consider subjects and objects that are \"she\"/\"he\"/\"her\"/\"him\" pronouns.   This function should return two Counter objects (`maleCounter` and `femaleCounter`) which counts the number of times a given verb has \"he\" as the subject and \"her\" as the object (`maleCounter`) and \"she\" as the subject and \"him\" as the object (`femaleCounter`)."
   ]
  },
  {
   "cell_type": "code",
   "execution_count": 49,
   "metadata": {},
   "outputs": [
    {
     "name": "stdout",
     "output_type": "stream",
     "text": [
      "She\t0\tPRP\tnsubj\tsent\t4\tVBD\n",
      "sent\t4\tVBD\tROOT\tsent\t4\tVBD\n",
      "them\t9\tPRP\tdobj\tsent\t4\tVBD\n",
      "home\t14\tRB\tadvmod\tsent\t4\tVBD\n",
      ".\t18\t.\tpunct\tsent\t4\tVBD\n"
     ]
    }
   ],
   "source": [
    "testDoc2=nlp(\"She sent them home.\")\n",
    "for token in testDoc2:\n",
    "    print(\"%s\\t%s\\t%s\\t%s\\t%s\\t%s\\t%s\" % (token.text, token.idx, token.tag_, token.dep_, token.head.text, token.head.idx, token.head.tag_))\n"
   ]
  },
  {
   "cell_type": "code",
   "execution_count": 52,
   "metadata": {},
   "outputs": [],
   "source": [
    "def count_SVO_tuples():\n",
    "    maleCounter=Counter()\n",
    "    femaleCounter=Counter()\n",
    "    verb_list = ['VB', 'VBG', 'VBD', 'VBN', 'VBZ', 'VBP']\n",
    "    for i in range(len(all_tokens)):\n",
    "        if all_tokens[i].text.lower() == 'he' and all_tokens[i].dep_ == 'nsubj':\n",
    "            while all_tokens[i].head.tag_ in verb_list and all_tokens[i].dep_ != 'punc':\n",
    "                i += 1\n",
    "                if all_tokens[i].text.lower() == 'her' and all_tokens[i].dep_ == 'dobj':\n",
    "                    maleCounter[all_tokens[i].head.text.lower()] += 1\n",
    "        elif all_tokens[i].text.lower() == 'she' and all_tokens[i].dep_ == 'nsubj':\n",
    "            while all_tokens[i].head.tag_ in verb_list and all_tokens[i].dep_ != 'punc':\n",
    "                i += 1\n",
    "                if all_tokens[i].text.lower() == 'him' and all_tokens[i].dep_ == 'dobj':\n",
    "                    femaleCounter[all_tokens[i].head.text.lower()] += 1\n",
    "            i += 1\n",
    "    # your code here\n",
    "                \n",
    "    return maleCounter, femaleCounter"
   ]
  },
  {
   "cell_type": "code",
   "execution_count": 53,
   "metadata": {},
   "outputs": [
    {
     "name": "stdout",
     "output_type": "stream",
     "text": [
      "Most male:\n",
      "1.960\tloved\n",
      "1.822\ttold\n",
      "1.605\tleft\n",
      "1.368\tjoined\n",
      "1.070\thear\n",
      "1.070\tasked\n",
      "0.846\tassured\n",
      "0.674\tsought\n",
      "0.613\thanded\n",
      "0.613\tassure\n",
      "\n",
      "Most female:\n",
      "-2.403\tseen\n",
      "-1.998\thave\n",
      "-1.458\tsaw\n",
      "-0.846\twished\n",
      "-0.846\tfound\n",
      "-0.659\tliked\n",
      "-0.611\taccept\n",
      "-0.611\taccepted\n",
      "-0.611\tlike\n",
      "-0.611\trefused\n"
     ]
    }
   ],
   "source": [
    "male, female=count_SVO_tuples()\n",
    "test(male, female, display=10)"
   ]
  },
  {
   "cell_type": "markdown",
   "metadata": {},
   "source": [
    "Comment: across the four questions, we do see differences that suggest gendering (e.g. a man possessing a house v/s a woman possessing a room)."
   ]
  }
 ],
 "metadata": {
  "kernelspec": {
   "display_name": "Python 3 (ipykernel)",
   "language": "python",
   "name": "python3"
  },
  "language_info": {
   "codemirror_mode": {
    "name": "ipython",
    "version": 3
   },
   "file_extension": ".py",
   "mimetype": "text/x-python",
   "name": "python",
   "nbconvert_exporter": "python",
   "pygments_lexer": "ipython3",
   "version": "3.8.8"
  }
 },
 "nbformat": 4,
 "nbformat_minor": 2
}
